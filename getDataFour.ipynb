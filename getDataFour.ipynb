{
 "cells": [
  {
   "cell_type": "code",
   "execution_count": 65,
   "metadata": {},
   "outputs": [],
   "source": [
    "import pandas as pd\n",
    "import numpy as np\n",
    "from tqdm import tqdm\n",
    "import os\n",
    "import csv\n",
    "pd.options.display.max_rows = 100"
   ]
  },
  {
   "cell_type": "code",
   "execution_count": 66,
   "metadata": {},
   "outputs": [
    {
     "name": "stdout",
     "output_type": "stream",
     "text": [
      "new bills\n",
      "d:\\Personal_projects\\Excel_Data_Extractor\\new bills\n"
     ]
    }
   ],
   "source": [
    "#getting the current path\n",
    "curr_path = os.getcwd() \n",
    "#print(curr_path) \n",
    "APP_PATH = curr_path \n",
    "\n",
    "folder_name = \"new bills\"\n",
    "#folder_name = str(input(\"Enter the Folder name to Build Report :\"))\n",
    "\n",
    "print(folder_name)\n",
    "\n",
    "# folder path\n",
    "dir_path = os.path.join(APP_PATH, folder_name)\n",
    "\n",
    "print(dir_path)"
   ]
  },
  {
   "cell_type": "code",
   "execution_count": 52,
   "metadata": {},
   "outputs": [],
   "source": [
    "# temp = \"D K Cyber , दानापुर ,9572984174.xlsx\"\n",
    "# temp[-4:]"
   ]
  },
  {
   "cell_type": "code",
   "execution_count": 67,
   "metadata": {},
   "outputs": [],
   "source": [
    "# list to store files\n",
    "res = []\n",
    "# Iterate directory\n",
    "for path in os.listdir(dir_path):\n",
    "    if path[-4:] == 'xlsx':\n",
    "        res.append(path)"
   ]
  },
  {
   "cell_type": "code",
   "execution_count": 54,
   "metadata": {},
   "outputs": [],
   "source": [
    "#print(res)\n"
   ]
  },
  {
   "cell_type": "code",
   "execution_count": 55,
   "metadata": {},
   "outputs": [],
   "source": [
    "# df1 = pd.read_excel(\n",
    "#      os.path.join(APP_PATH, \"new bills\", 'उपेंदर, चंडी.xlsx'),\n",
    "#      engine='openpyxl')\n",
    "\n",
    "\n",
    "# col_name = df1.keys()[3] \n",
    "# print(col_name)\n",
    "# myseries = df1[col_name]\n",
    "#     # myseries\n",
    "\n",
    "# print(myseries[myseries == \"TOTAL NO PCS.\"].index[0])\n",
    "\n"
   ]
  },
  {
   "cell_type": "code",
   "execution_count": 56,
   "metadata": {},
   "outputs": [],
   "source": [
    "# df1.head()"
   ]
  },
  {
   "cell_type": "code",
   "execution_count": 57,
   "metadata": {},
   "outputs": [],
   "source": [
    "# df1.tail(10)"
   ]
  },
  {
   "cell_type": "markdown",
   "metadata": {},
   "source": [
    "TOTAL NO PCS.\t\t\n",
    "TOTAL AMOUNT \t\t\n",
    "(मूर्ति)  दुकान\t\t\n",
    " (गणेश लक्ष्मी)  दुकान\t\t\n",
    "LOADING CHARGE (लेबर खर्चा)\t\t\n",
    "TRANSPORTATION (गाड़ी भाड़ा)\t\t\n",
    "PACKING CHARGES (कार्टून, रस्सी, नेवारी) \t\t\n",
    "पहेले का बकाया\t\t\n",
    " GRAND TOTAL/ कुल \t\t\n",
    "ADVANCE/ अग्रिम \t\t\n",
    "PAYABLE/ देय \t\t\n"
   ]
  },
  {
   "cell_type": "code",
   "execution_count": 58,
   "metadata": {},
   "outputs": [],
   "source": [
    "def getIndex(df,):\n",
    "    col_name = df.keys()[3]\n",
    "    series = df[col_name]\n",
    "    idx = series[series == \"TOTAL NO PCS.\"].index[0]\n",
    "    return idx"
   ]
  },
  {
   "cell_type": "code",
   "execution_count": 59,
   "metadata": {},
   "outputs": [],
   "source": [
    "final_list = []"
   ]
  },
  {
   "cell_type": "code",
   "execution_count": 60,
   "metadata": {},
   "outputs": [],
   "source": [
    "def build_list(bill, df, index):\n",
    "    col_name = df.keys()[3]               #name\n",
    "    amount_col_name = df.keys()[8]        #All aggregations and total\n",
    "    piece_count_col_name = df.keys()[6]   #no. of pcs.\n",
    "    \n",
    "    res_list = [\n",
    "        bill, \n",
    "        df[piece_count_col_name][index],\t\t\n",
    "        df[amount_col_name][index + 1],\t\t\n",
    "        df[amount_col_name][index + 2],\t\n",
    "        df[amount_col_name][index + 3],\t\t\n",
    "        df[amount_col_name][index + 4],\t\t\n",
    "        df[amount_col_name][index + 5],\t\t\n",
    "        df[amount_col_name][index + 6], \t\t\n",
    "        df[amount_col_name][index + 7],\t\t\n",
    "        df[amount_col_name][index + 8], \t\t\n",
    "        df[amount_col_name][index + 9], \t\t\n",
    "        df[amount_col_name][index + 10], \n",
    "    ]\n",
    "    return res_list"
   ]
  },
  {
   "cell_type": "code",
   "execution_count": 61,
   "metadata": {},
   "outputs": [
    {
     "name": "stderr",
     "output_type": "stream",
     "text": [
      "calculating sum of bills: 100%|██████████| 43/43 [00:24<00:00,  1.75it/s]"
     ]
    },
    {
     "name": "stdout",
     "output_type": "stream",
     "text": [
      "***********************    Calculation complete!!!    ************************************\n",
      "\n",
      "\n",
      "\n",
      "\n"
     ]
    },
    {
     "name": "stderr",
     "output_type": "stream",
     "text": [
      "\n"
     ]
    }
   ],
   "source": [
    "\n",
    "for bill in tqdm(res, desc = \"calculating sum of bills\"):\n",
    "    df = pd.read_excel(\n",
    "     os.path.join(APP_PATH, folder_name, bill),             # Take both APP_NAME and folder name as Args\n",
    "     engine='openpyxl')\n",
    "    curr_list = build_list(bill, df, getIndex(df))\n",
    "    final_list.append(curr_list)\n",
    "\n",
    "print(\"***********************    Calculation complete!!!    ************************************\")\n",
    "print(\"\\n\\n\\n\")\n",
    "        "
   ]
  },
  {
   "cell_type": "code",
   "execution_count": 62,
   "metadata": {},
   "outputs": [],
   "source": [
    "# df1.head(10)"
   ]
  },
  {
   "cell_type": "code",
   "execution_count": 63,
   "metadata": {},
   "outputs": [
    {
     "name": "stdout",
     "output_type": "stream",
     "text": [
      "[['D K Cyber , दानापुर ,9572984174.xlsx', 45, 9768, 4791, nan, 30, nan, 300, nan, 14889, nan, 14889], ['M.K कटिहार , 9971835200.xlsx', 145, 19224, 3101, nan, 70, nan, 700, nan, 23095, nan, 23095], ['Md हारून  , किसंघंज ,.xlsx', 72, 8460, nan, nan, 25, nan, 250, nan, 8735, nan, 8735], ['MKS, कटिहार , 9971835200.xlsx', 218, 11721.4, nan, nan, 40, nan, 400, nan, 12161.4, nan, 12161.4], ['new (27).xlsx', 0, 254682, nan, nan, nan, nan, nan, nan, 254682, nan, 254682], ['new (38).xlsx', 0, 254682, nan, nan, nan, nan, nan, nan, 254682, nan, 254682], ['NEW (4).xlsx', 0, 253987, nan, nan, nan, nan, nan, nan, 253987, nan, 253987], ['new (5).xlsx', 0, 254682, nan, nan, nan, nan, nan, nan, 254682, nan, 254682], ['new (58).xlsx', 0, 254682, nan, nan, nan, nan, nan, nan, 254682, nan, 254682], ['new (7).xlsx', 0, 254682, nan, nan, nan, nan, nan, nan, 254682, nan, 254682], ['new (9).xlsx', 0, 254682, nan, nan, nan, nan, nan, nan, 254682, nan, 254682], ['OP निराला, नागालैंड , 7909076290.xlsx', 106, 7580, nan, nan, 20, nan, 40, nan, 7640, nan, 7640], ['TULIP, गोला रोड , 9122494251.xlsx', 162, 10084, 1472, nan, 30, nan, 300, nan, 11886, 4000, 7886], ['अखलेश चौधरी , खातिहिया , 9472253217.xlsx', 216, 4703, nan, nan, 20, nan, 200, nan, 4923, 1000, 3923], ['अजय , लोहानीपुर , 9709601175.xlsx', 94, 4955, 600, nan, 20, nan, 200, nan, 5775, 4000, 1775], ['अजय कुमार , चातिस्घर , 8120844876.xlsx', 102, 2010, nan, nan, 10, nan, 70, nan, 2090, nan, 2090], ['अजय कुमार , बकर्घंज  9835455600.xlsx', 209, 8960.5, nan, nan, 20, nan, 200, nan, 9180.5, 5000, 4180.5], ['अजय शाह , मुजफ्फरपुर , 9955323470.xlsx', 102, 7915, 2300, nan, 20, nan, 200, nan, 10435, nan, 10435], ['अजित कुमार  , बोरिंग रोड , 8578919182 - Copy.xlsx', 182, 8092, nan, nan, 25, nan, 250, nan, 8367, 2500, 5867], ['अजित कुमार गुप्ता , बकरघंज , 9905024485.xlsx', 114, 2895, nan, nan, 10, nan, 100, nan, 3005, nan, 3005], ['अनिल कुमार , कुर्थुँल , 9709725103.xlsx', 101, 6167, nan, nan, 20, nan, 200, nan, 6387, nan, 6387], ['अनिल चौरसिया , घटारो , 9939482448.xlsx', 84, 5631, 1057, nan, 30, nan, 300, nan, 7018, nan, 7018], ['अमन कुमार साह , कटिहार , 7004536454.xlsx', 672, 13008.6, nan, nan, 40, nan, 400, nan, 13448.6, nan, 13448.6], ['अमरजीत , राजेंद्र नगर , 8235150627.xlsx', 94, 5593, nan, nan, 20, nan, 200, nan, 5813, nan, 5813], ['अमित   कुमार   बेऊर.xlsx', 69, 2739, nan, nan, 10, nan, 100, nan, 2849, nan, 2849], ['अमित , मालिया महा देव.xlsx', 31, 955, nan, nan, nan, nan, nan, nan, 955, nan, 955], ['अरुण कुमार , कराय परुरै ,9801311121.xlsx', 43, 2476.8, 2403, nan, 10, nan, 100, nan, 4989.8, 1000, 3989.8], ['अशोक , कटिहार , 9576315725.xlsx', 141, 11360, 2232, nan, 40, nan, 400, nan, 14032, nan, 14032], ['अशोक , बोरिंग रोड , 7549937223.xlsx', 109, 3563, 535, nan, 20, nan, 100, nan, 4218, nan, 4218], ['अशोक जी , आलम नगर , 7631795152.xlsx', 101, 6183, 1930, nan, 20, nan, 200, nan, 8333, nan, 8333], ['आजाद चौधाहरी , बोरिंग रोड , 8578919182.xlsx', 182, 8092, nan, nan, 25, nan, 250, nan, 8367, 2500, 5867], ['आदित्य , भूतनाथ , 6202834473.xlsx', 112, 8625, nan, nan, 30, nan, 300, nan, 8955, nan, 8955], ['आनंद , रजा बाज़ार , 9431647277.xlsx', 116, 11535, 3232, nan, 40, nan, 400, nan, 15207, nan, 15207], ['आर्य , भूतनाथ , 79919125865.xlsx', 112, 8635, nan, nan, 30, nan, 300, nan, 8965, nan, 8965], ['आर्यन कुमार, बरिया , 8540877625.xlsx', 484, 20965.05, nan, nan, 70, nan, 700, nan, 21735.05, 5000, 16735.05], ['आशीष कुमार   पूर्णिया   8539903793.xlsx', 107, 9202, nan, nan, 30, nan, 300, nan, 9532, nan, 9532], ['उपेंदर , चंडी , 8581876597.xlsx', 312, 4287.6, 2141, nan, 20, nan, 150, nan, 6598.6, nan, 6598.6], ['उपेंदर, चंडी.xlsx', 94, 1949.9, nan, nan, 5, nan, 70, nan, 2024.9, nan, 2024.9], ['कन्हाई कुमार , कंकर्बघ ईस्ट इंद्रा नगर , 7352235330.xlsx', 243, 12332.8, nan, nan, 40, nan, 400, nan, 12772.8, 5000, 7772.799999999999], ['काजल कुमारी , बरिया  9366687816.xlsx', 165, 3783.2, nan, nan, 30, nan, 300, nan, 4113.2, nan, 4113.2], ['किशना पाठक    ,   गोसय टोला   , 8210671131 - Copy.xlsx', 156, 14998, nan, nan, 50, nan, 600, nan, 15648, nan, 15648], ['कुञ्ज बिहारी , हिलसा , 9304245903.xlsx', 39, 3006, nan, nan, 10, nan, 100, nan, 3116, nan, 3116], ['कृष्णा केसरी , बजरंगी पूरी , 8210531678.xlsx', 80, 3881, nan, nan, 10, nan, 100, nan, 3991, 1000, 2991]]\n"
     ]
    }
   ],
   "source": [
    "print(final_list)"
   ]
  },
  {
   "cell_type": "code",
   "execution_count": 64,
   "metadata": {},
   "outputs": [],
   "source": [
    "with open('GFG4.csv', 'w',encoding=\"utf-8\") as f:\n",
    "      \n",
    "    # using csv.writer method from CSV package\n",
    "\n",
    "    fields = ['Party', 'TOTAL NO PCS.', 'TOTAL AMOUNT', '(मूर्ति)  दुकान', '(गणेश लक्ष्मी)  दुकान', 'LOADING CHARGE (लेबर खर्चा)', 'TRANSPORTATION (गाड़ी भाड़ा)', 'PACKING CHARGES (कार्टून, रस्सी, नेवारी)', 'पहेले का बकाया', 'GRAND TOTAL/ कुल', 'ADVANCE/ अग्रिम', 'PAYABLE/ देय']\n",
    "\n",
    "    write = csv.writer(f)\n",
    "    write.writerow(fields)\n",
    "    write.writerows(final_list)"
   ]
  }
 ],
 "metadata": {
  "kernelspec": {
   "display_name": "Python 3.8.0 64-bit",
   "language": "python",
   "name": "python3"
  },
  "language_info": {
   "codemirror_mode": {
    "name": "ipython",
    "version": 3
   },
   "file_extension": ".py",
   "mimetype": "text/x-python",
   "name": "python",
   "nbconvert_exporter": "python",
   "pygments_lexer": "ipython3",
   "version": "3.8.0"
  },
  "orig_nbformat": 4,
  "vscode": {
   "interpreter": {
    "hash": "570feb405e2e27c949193ac68f46852414290d515b0ba6e5d90d076ed2284471"
   }
  }
 },
 "nbformat": 4,
 "nbformat_minor": 2
}
